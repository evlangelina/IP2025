{
 "cells": [
  {
   "cell_type": "code",
   "execution_count": null,
   "id": "2b8322d1",
   "metadata": {},
   "outputs": [],
   "source": [
    "import numpy as np\n",
    "import cv2\n",
    "import matplotlib.pyplot as plt\n",
    "from skimage.metrics import structural_similarity as ssim, mean_squared_error"
   ]
  },
  {
   "cell_type": "code",
   "execution_count": null,
   "id": "c735062f",
   "metadata": {},
   "outputs": [],
   "source": [
    "def gamma_correction(image, gamma):\n",
    "    n_image = image / 255.0\n",
    "    c_image = np.power(n_image, gamma)\n",
    "    c_image = np.uint8(c_image * 255)\n",
    "    return c_image"
   ]
  },
  {
   "cell_type": "code",
   "execution_count": null,
   "id": "714a25c1",
   "metadata": {},
   "outputs": [],
   "source": [
    "def compare_images(original, corrected):\n",
    "    mse_val = calculate_mse(original, corrected)\n",
    "    ssim_val = ssim(original, corrected, multichannel=False)\n",
    "    return mse_val, ssim_val\n"
   ]
  },
  {
   "cell_type": "code",
   "execution_count": null,
   "id": "12d2ac9a",
   "metadata": {},
   "outputs": [],
   "source": [
    "def calculate_mse(imageA, imageB):\n",
    "    err = np.sum((imageA.astype(\"float\") - imageB.astype(\"float\")) ** 2)\n",
    "    err /= float(imageA.shape[0] * imageA.shape[1])\n",
    "    return err"
   ]
  },
  {
   "cell_type": "code",
   "execution_count": null,
   "id": "cb291c89",
   "metadata": {},
   "outputs": [],
   "source": [
    "def statistical_color_correction(image):\n",
    "    gray_image = cv2.cvtColor(image, cv2.COLOR_BGR2GRAY)\n",
    "    eq_gray = cv2.equalizeHist(gray_image)\n",
    "       \n",
    "    b, g, r = cv2.split(image)\n",
    "    b_eq = cv2.equalizeHist(b)\n",
    "    g_eq = cv2.equalizeHist(g)\n",
    "    r_eq = cv2.equalizeHist(r)\n",
    "    \n",
    "    corrected_image = cv2.merge((b_eq, g_eq, r_eq))\n",
    "    return corrected_image"
   ]
  },
  {
   "cell_type": "code",
   "execution_count": null,
   "id": "5e23f501",
   "metadata": {},
   "outputs": [],
   "source": [
    "def threshold_filtering(image, threshold):\n",
    "    _, thr_image = cv2.threshold(image, threshold, 255, cv2.THRESH_BINARY)\n",
    "    return thr_image\n",
    "\n",
    "image_path = 'sar_1_gray.jpg'  \n",
    "image = cv2.imread(image_path)\n",
    "\n",
    "gray_image = cv2.cvtColor(image, cv2.COLOR_BGR2GRAY)\n",
    "\n",
    "plt.figure(figsize=(6, 6))\n",
    "plt.imshow(gray_image, cmap='gray')\n",
    "plt.title('Исходное изображение')\n",
    "plt.axis('off')\n",
    "plt.show()\n",
    "\n",
    "plt.figure(figsize=(10, 5))\n",
    "plt.hist(gray_image.ravel(), bins=256, range=[0, 256], color='gray')\n",
    "plt.title('Гистограмма')\n",
    "plt.xlabel('Интенсивность')\n",
    "plt.ylabel('Частота')\n",
    "plt.xlim([0, 256])\n",
    "plt.grid()\n",
    "plt.show()\n",
    "\n",
    "gamma_values = [0.9, 1.1]  \n",
    "\n",
    "for gamma in gamma_values:\n",
    "    corrected_image = gamma_correction(gray_image, gamma)\n",
    "    \n",
    "    \n",
    "    plt.figure(figsize=(6, 6))\n",
    "    plt.imshow(corrected_image, cmap='gray')\n",
    "    plt.title(f'Gamma - {gamma}')\n",
    "    plt.axis('off')\n",
    "    plt.show()\n",
    "    \n",
    "    \n",
    "    mse_value, ssim_value = compare_images(gray_image, corrected_image)\n",
    "    print(f'Gamma - {gamma} | MSE - {mse_value:.2f}, SSIM - {ssim_value:.4f}')\n",
    "\n",
    "statistical_corrected_image = statistical_color_correction(image)\n",
    "\n",
    "mse_statistical, ssim_statistical = compare_images(gray_image, cv2.cvtColor(statistical_corrected_image, cv2.COLOR_BGR2GRAY))\n",
    "\n",
    "plt.figure(figsize=(6, 6))\n",
    "plt.imshow(cv2.cvtColor(statistical_corrected_image, cv2.COLOR_BGR2RGB))\n",
    "plt.title(f'Статистическая цветокоррекция MSE - {mse_statistical:.2f}, SSIM - {ssim_statistical:.4f}')\n",
    "plt.axis('off')\n",
    "plt.show()\n",
    "\n",
    "thresholds = [24, 60, 92, 135]\n",
    "\n",
    "for threshold in thresholds:\n",
    "    thresholded_image = threshold_filtering(gray_image, threshold)  \n",
    "    plt.figure(figsize=(6, 6))\n",
    "    plt.imshow(thresholded_image, cmap='gray')\n",
    "    plt.title(f'Порог - {threshold}')\n",
    "    plt.axis('off')\n",
    "    plt.show()\n"
   ]
  }
 ],
 "metadata": {
  "language_info": {
   "name": "python"
  }
 },
 "nbformat": 4,
 "nbformat_minor": 5
}
